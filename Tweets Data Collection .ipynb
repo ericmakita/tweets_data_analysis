{
 "cells": [
  {
   "cell_type": "code",
   "execution_count": 1,
   "id": "b83bf237",
   "metadata": {},
   "outputs": [
    {
     "data": {
      "application/javascript": [
       "IPython.OutputArea.auto_scroll_threshold = 9999\n"
      ],
      "text/plain": [
       "<IPython.core.display.Javascript object>"
      ]
     },
     "metadata": {},
     "output_type": "display_data"
    }
   ],
   "source": [
    "%%javascript\n",
    "IPython.OutputArea.auto_scroll_threshold = 9999"
   ]
  },
  {
   "cell_type": "code",
   "execution_count": 2,
   "id": "0f3026c0",
   "metadata": {},
   "outputs": [],
   "source": [
    "#Accessing the Twitter API and retrieving tweets\n",
    "import tweepy \n",
    "\n",
    "# Data manipulation and analysis\n",
    "import pandas as pd \n",
    "import nltk \n",
    "from nltk.corpus import stopwords\n",
    "from nltk.tokenize import  word_tokenize\n",
    "from collections import Counter\n",
    "from nltk.stem import WordNetLemmatizer\n",
    "import re\n",
    "\n",
    "#Visualisation\n",
    "import plotly\n",
    "import plotly.express as px\n",
    "import plotly.graph_objects as go\n",
    "from wordcloud import WordCloud\n",
    "import matplotlib.pyplot as plt\n",
    "\n",
    "#Sentiment Analysis\n",
    "from vaderSentiment.vaderSentiment import SentimentIntensityAnalyzer \n",
    "from textblob import TextBlob\n",
    "\n",
    "# feature extraction in NLP tasks\n",
    "from sklearn.feature_extraction.text import TfidfVectorizer\n",
    "\n",
    "# Clustering\n",
    "from sklearn.cluster import KMeans\n",
    "\n",
    "# Warning\n",
    "import warnings\n",
    "warnings.filterwarnings(\"ignore\")"
   ]
  },
  {
   "cell_type": "markdown",
   "id": "879f1596",
   "metadata": {},
   "source": [
    "# Twitter's API Authentication and data collection\n",
    "\n",
    "## Consumer_key and access_key generated from Twitter's developer account"
   ]
  },
  {
   "cell_type": "code",
   "execution_count": 3,
   "id": "0f5b3fd5",
   "metadata": {},
   "outputs": [],
   "source": [
    "CONSUMER_KEY = 'uB1vqJDt3bbJJQ6NiC1a1UzH3'\n",
    "CONSUMER_SECRET = 'CaIYM9P0OLWjsJILw4RdjdB2rEae8kmXH4lP3ufY2Nm8ApT8EY'\n",
    "ACCESS_KEY = '2980999297-07ApaDzXhuJZpBB6c9RrtiN69IFtzEZvv1H3t6w'\n",
    "ACCESS_SECRET = 'jvsl9yiXNzZsYr1UBQaHDGJBKWfXiMVnmZtZEc1alE1eg'"
   ]
  },
  {
   "cell_type": "markdown",
   "id": "ef960ab8",
   "metadata": {},
   "source": [
    "## Initialize authentication and API object for accessing the Twitter API"
   ]
  },
  {
   "cell_type": "code",
   "execution_count": 4,
   "id": "78777d78",
   "metadata": {},
   "outputs": [],
   "source": [
    "auth = tweepy.OAuthHandler(CONSUMER_KEY, CONSUMER_SECRET)\n",
    "auth.set_access_token(ACCESS_KEY, ACCESS_SECRET)\n",
    "api = tweepy.API(auth)"
   ]
  },
  {
   "cell_type": "markdown",
   "id": "b037bf34",
   "metadata": {},
   "source": [
    "## Collect relevant tweets based on a query and store them in a pandas DataFrame."
   ]
  },
  {
   "cell_type": "code",
   "execution_count": 16,
   "id": "4ae8f816",
   "metadata": {},
   "outputs": [],
   "source": [
    "query = \"#datascience OR #dataanalysis OR #dataengineer\"\n",
    "\n",
    "tweets = []\n",
    "\n",
    "# Use the Cursor object to search for tweets\n",
    "for tweet in tweepy.Cursor(api.search_tweets, q=query, lang='en').items(1000):\n",
    "    # Store relevant data in a dictionary\n",
    "    tweet_data = {\n",
    "        'text': tweet.text,\n",
    "        'created_at': tweet.created_at,\n",
    "        'user_screen_name': tweet.user.screen_name,\n",
    "        'retweet_count': tweet.retweet_count,\n",
    "        'favorite_count': tweet.favorite_count,\n",
    "        'hashtags': [hashtag['text'] for hashtag in tweet.entities['hashtags']]\n",
    "    }\n",
    "    # Append the dictionary to the list of tweets\n",
    "    tweets.append(tweet_data)\n",
    "    \n",
    "# Create a DataFrame from the list of tweets\n",
    "df = pd.DataFrame(tweets)"
   ]
  },
  {
   "cell_type": "markdown",
   "id": "7df3a000",
   "metadata": {},
   "source": [
    "### Display the DataFrame"
   ]
  },
  {
   "cell_type": "code",
   "execution_count": 17,
   "id": "a12ae6fc",
   "metadata": {},
   "outputs": [
    {
     "data": {
      "text/html": [
       "<div>\n",
       "<style scoped>\n",
       "    .dataframe tbody tr th:only-of-type {\n",
       "        vertical-align: middle;\n",
       "    }\n",
       "\n",
       "    .dataframe tbody tr th {\n",
       "        vertical-align: top;\n",
       "    }\n",
       "\n",
       "    .dataframe thead th {\n",
       "        text-align: right;\n",
       "    }\n",
       "</style>\n",
       "<table border=\"1\" class=\"dataframe\">\n",
       "  <thead>\n",
       "    <tr style=\"text-align: right;\">\n",
       "      <th></th>\n",
       "      <th>text</th>\n",
       "      <th>created_at</th>\n",
       "      <th>user_screen_name</th>\n",
       "      <th>retweet_count</th>\n",
       "      <th>favorite_count</th>\n",
       "      <th>hashtags</th>\n",
       "    </tr>\n",
       "  </thead>\n",
       "  <tbody>\n",
       "    <tr>\n",
       "      <th>0</th>\n",
       "      <td>RT @DataScienceDojo: An overview of machine le...</td>\n",
       "      <td>2023-03-12 14:49:51+00:00</td>\n",
       "      <td>r_rancio</td>\n",
       "      <td>57</td>\n",
       "      <td>0</td>\n",
       "      <td>[MachineLearning, Overview, DataScience]</td>\n",
       "    </tr>\n",
       "    <tr>\n",
       "      <th>1</th>\n",
       "      <td>RT @gp_pulipaka: What is Data Science? #BigDat...</td>\n",
       "      <td>2023-03-12 14:49:47+00:00</td>\n",
       "      <td>leeziqiang0010</td>\n",
       "      <td>136</td>\n",
       "      <td>0</td>\n",
       "      <td>[BigData, Analytics, DataScience, AI, MachineL...</td>\n",
       "    </tr>\n",
       "    <tr>\n",
       "      <th>2</th>\n",
       "      <td>Really cool! I just reached 1500 subscribers o...</td>\n",
       "      <td>2023-03-12 14:49:40+00:00</td>\n",
       "      <td>MrAstroThomas</td>\n",
       "      <td>0</td>\n",
       "      <td>0</td>\n",
       "      <td>[Space, Science, Python]</td>\n",
       "    </tr>\n",
       "    <tr>\n",
       "      <th>3</th>\n",
       "      <td>RT @WestArt_Factory: Top data #Analytics tools...</td>\n",
       "      <td>2023-03-12 14:49:26+00:00</td>\n",
       "      <td>alexanderyamir1</td>\n",
       "      <td>41</td>\n",
       "      <td>0</td>\n",
       "      <td>[Analytics, MachineLearning, DataScience, SQL,...</td>\n",
       "    </tr>\n",
       "    <tr>\n",
       "      <th>4</th>\n",
       "      <td>RT @BDAnalyticsnews: How to become a data scie...</td>\n",
       "      <td>2023-03-12 14:49:15+00:00</td>\n",
       "      <td>BueleTejada</td>\n",
       "      <td>77</td>\n",
       "      <td>0</td>\n",
       "      <td>[ArtificialIntelligence, AI, ML, DataScience, ...</td>\n",
       "    </tr>\n",
       "  </tbody>\n",
       "</table>\n",
       "</div>"
      ],
      "text/plain": [
       "                                                text  \\\n",
       "0  RT @DataScienceDojo: An overview of machine le...   \n",
       "1  RT @gp_pulipaka: What is Data Science? #BigDat...   \n",
       "2  Really cool! I just reached 1500 subscribers o...   \n",
       "3  RT @WestArt_Factory: Top data #Analytics tools...   \n",
       "4  RT @BDAnalyticsnews: How to become a data scie...   \n",
       "\n",
       "                 created_at user_screen_name  retweet_count  favorite_count  \\\n",
       "0 2023-03-12 14:49:51+00:00         r_rancio             57               0   \n",
       "1 2023-03-12 14:49:47+00:00   leeziqiang0010            136               0   \n",
       "2 2023-03-12 14:49:40+00:00    MrAstroThomas              0               0   \n",
       "3 2023-03-12 14:49:26+00:00  alexanderyamir1             41               0   \n",
       "4 2023-03-12 14:49:15+00:00      BueleTejada             77               0   \n",
       "\n",
       "                                            hashtags  \n",
       "0           [MachineLearning, Overview, DataScience]  \n",
       "1  [BigData, Analytics, DataScience, AI, MachineL...  \n",
       "2                           [Space, Science, Python]  \n",
       "3  [Analytics, MachineLearning, DataScience, SQL,...  \n",
       "4  [ArtificialIntelligence, AI, ML, DataScience, ...  "
      ]
     },
     "execution_count": 17,
     "metadata": {},
     "output_type": "execute_result"
    }
   ],
   "source": [
    "df.head()"
   ]
  },
  {
   "cell_type": "markdown",
   "id": "fd81f143",
   "metadata": {},
   "source": [
    "## Data cleaning and preprocessing on the tweets data"
   ]
  },
  {
   "cell_type": "code",
   "execution_count": 18,
   "id": "409bd712",
   "metadata": {},
   "outputs": [],
   "source": [
    "# Drop rows where the 'text' column is empty\n",
    "df = df[df['text'].notna()]\n",
    "\n",
    "# Convert 'created_at' column to datetime object\n",
    "df['created_at'] = pd.to_datetime(df['created_at'])\n",
    "\n",
    "# Drop rows where the 'user_screen_name' column is empty\n",
    "df = df[df['user_screen_name'].notna()]\n",
    "\n",
    "# Convert 'hashtags' column to string and fill empty values with an empty string\n",
    "df['hashtags'] = df['hashtags'].fillna('').astype(str)"
   ]
  },
  {
   "cell_type": "code",
   "execution_count": 19,
   "id": "b8bbc9d1",
   "metadata": {},
   "outputs": [
    {
     "data": {
      "text/html": [
       "<div>\n",
       "<style scoped>\n",
       "    .dataframe tbody tr th:only-of-type {\n",
       "        vertical-align: middle;\n",
       "    }\n",
       "\n",
       "    .dataframe tbody tr th {\n",
       "        vertical-align: top;\n",
       "    }\n",
       "\n",
       "    .dataframe thead th {\n",
       "        text-align: right;\n",
       "    }\n",
       "</style>\n",
       "<table border=\"1\" class=\"dataframe\">\n",
       "  <thead>\n",
       "    <tr style=\"text-align: right;\">\n",
       "      <th></th>\n",
       "      <th>text</th>\n",
       "      <th>created_at</th>\n",
       "      <th>user_screen_name</th>\n",
       "      <th>retweet_count</th>\n",
       "      <th>favorite_count</th>\n",
       "      <th>hashtags</th>\n",
       "    </tr>\n",
       "  </thead>\n",
       "  <tbody>\n",
       "    <tr>\n",
       "      <th>0</th>\n",
       "      <td>RT @DataScienceDojo: An overview of machine le...</td>\n",
       "      <td>2023-03-12 14:49:51+00:00</td>\n",
       "      <td>r_rancio</td>\n",
       "      <td>57</td>\n",
       "      <td>0</td>\n",
       "      <td>['MachineLearning', 'Overview', 'DataScience']</td>\n",
       "    </tr>\n",
       "    <tr>\n",
       "      <th>1</th>\n",
       "      <td>RT @gp_pulipaka: What is Data Science? #BigDat...</td>\n",
       "      <td>2023-03-12 14:49:47+00:00</td>\n",
       "      <td>leeziqiang0010</td>\n",
       "      <td>136</td>\n",
       "      <td>0</td>\n",
       "      <td>['BigData', 'Analytics', 'DataScience', 'AI', ...</td>\n",
       "    </tr>\n",
       "    <tr>\n",
       "      <th>2</th>\n",
       "      <td>Really cool! I just reached 1500 subscribers o...</td>\n",
       "      <td>2023-03-12 14:49:40+00:00</td>\n",
       "      <td>MrAstroThomas</td>\n",
       "      <td>0</td>\n",
       "      <td>0</td>\n",
       "      <td>['Space', 'Science', 'Python']</td>\n",
       "    </tr>\n",
       "    <tr>\n",
       "      <th>3</th>\n",
       "      <td>RT @WestArt_Factory: Top data #Analytics tools...</td>\n",
       "      <td>2023-03-12 14:49:26+00:00</td>\n",
       "      <td>alexanderyamir1</td>\n",
       "      <td>41</td>\n",
       "      <td>0</td>\n",
       "      <td>['Analytics', 'MachineLearning', 'DataScience'...</td>\n",
       "    </tr>\n",
       "    <tr>\n",
       "      <th>4</th>\n",
       "      <td>RT @BDAnalyticsnews: How to become a data scie...</td>\n",
       "      <td>2023-03-12 14:49:15+00:00</td>\n",
       "      <td>BueleTejada</td>\n",
       "      <td>77</td>\n",
       "      <td>0</td>\n",
       "      <td>['ArtificialIntelligence', 'AI', 'ML', 'DataSc...</td>\n",
       "    </tr>\n",
       "  </tbody>\n",
       "</table>\n",
       "</div>"
      ],
      "text/plain": [
       "                                                text  \\\n",
       "0  RT @DataScienceDojo: An overview of machine le...   \n",
       "1  RT @gp_pulipaka: What is Data Science? #BigDat...   \n",
       "2  Really cool! I just reached 1500 subscribers o...   \n",
       "3  RT @WestArt_Factory: Top data #Analytics tools...   \n",
       "4  RT @BDAnalyticsnews: How to become a data scie...   \n",
       "\n",
       "                 created_at user_screen_name  retweet_count  favorite_count  \\\n",
       "0 2023-03-12 14:49:51+00:00         r_rancio             57               0   \n",
       "1 2023-03-12 14:49:47+00:00   leeziqiang0010            136               0   \n",
       "2 2023-03-12 14:49:40+00:00    MrAstroThomas              0               0   \n",
       "3 2023-03-12 14:49:26+00:00  alexanderyamir1             41               0   \n",
       "4 2023-03-12 14:49:15+00:00      BueleTejada             77               0   \n",
       "\n",
       "                                            hashtags  \n",
       "0     ['MachineLearning', 'Overview', 'DataScience']  \n",
       "1  ['BigData', 'Analytics', 'DataScience', 'AI', ...  \n",
       "2                     ['Space', 'Science', 'Python']  \n",
       "3  ['Analytics', 'MachineLearning', 'DataScience'...  \n",
       "4  ['ArtificialIntelligence', 'AI', 'ML', 'DataSc...  "
      ]
     },
     "execution_count": 19,
     "metadata": {},
     "output_type": "execute_result"
    }
   ],
   "source": [
    "df.head()"
   ]
  },
  {
   "cell_type": "code",
   "execution_count": 20,
   "id": "832551d3",
   "metadata": {},
   "outputs": [],
   "source": [
    "df.to_csv('cleaned_tweets.csv', index=False)"
   ]
  },
  {
   "cell_type": "code",
   "execution_count": null,
   "id": "d2e86eab",
   "metadata": {},
   "outputs": [],
   "source": []
  }
 ],
 "metadata": {
  "kernelspec": {
   "display_name": "Python 3 (ipykernel)",
   "language": "python",
   "name": "python3"
  },
  "language_info": {
   "codemirror_mode": {
    "name": "ipython",
    "version": 3
   },
   "file_extension": ".py",
   "mimetype": "text/x-python",
   "name": "python",
   "nbconvert_exporter": "python",
   "pygments_lexer": "ipython3",
   "version": "3.9.13"
  },
  "toc": {
   "base_numbering": 1,
   "nav_menu": {},
   "number_sections": true,
   "sideBar": true,
   "skip_h1_title": false,
   "title_cell": "Table of Contents",
   "title_sidebar": "Contents",
   "toc_cell": false,
   "toc_position": {},
   "toc_section_display": true,
   "toc_window_display": false
  },
  "varInspector": {
   "cols": {
    "lenName": 16,
    "lenType": 16,
    "lenVar": 40
   },
   "kernels_config": {
    "python": {
     "delete_cmd_postfix": "",
     "delete_cmd_prefix": "del ",
     "library": "var_list.py",
     "varRefreshCmd": "print(var_dic_list())"
    },
    "r": {
     "delete_cmd_postfix": ") ",
     "delete_cmd_prefix": "rm(",
     "library": "var_list.r",
     "varRefreshCmd": "cat(var_dic_list()) "
    }
   },
   "types_to_exclude": [
    "module",
    "function",
    "builtin_function_or_method",
    "instance",
    "_Feature"
   ],
   "window_display": false
  }
 },
 "nbformat": 4,
 "nbformat_minor": 5
}
